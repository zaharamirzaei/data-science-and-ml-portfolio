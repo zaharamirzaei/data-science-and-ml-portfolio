{
 "cells": [
  {
   "cell_type": "code",
   "execution_count": null,
   "id": "0760cb2c-7da7-45af-b7b5-325dedaa940a",
   "metadata": {},
   "outputs": [],
   "source": [
    "!pip install -U opencv-python"
   ]
  },
  {
   "cell_type": "code",
   "execution_count": 12,
   "id": "d2202e0d-4a8b-4b80-b760-4e8efe0cd19f",
   "metadata": {},
   "outputs": [],
   "source": [
    "import matplotlib.pyplot as plt\n",
    "import cv2\n",
    "import numpy as np"
   ]
  },
  {
   "cell_type": "code",
   "execution_count": 13,
   "id": "038394f0-bf50-4cef-aab8-35f15a55c619",
   "metadata": {},
   "outputs": [],
   "source": [
    "img = cv2.imread('train_data/Daffodil/1.jpg')"
   ]
  },
  {
   "cell_type": "code",
   "execution_count": 14,
   "id": "64caf238-2381-404e-a7cf-4e3195e8bb5b",
   "metadata": {},
   "outputs": [],
   "source": [
    "image_hsv = cv2.cvtColor(img, cv2.COLOR_BGR2HSV)"
   ]
  },
  {
   "cell_type": "code",
   "execution_count": 15,
   "id": "d1e05088-c378-49aa-8e51-eb4b4dca5975",
   "metadata": {},
   "outputs": [],
   "source": [
    "image = cv2.resize(img, (500,500))\n",
    "image_hsv = cv2.cvtColor(image, cv2.COLOR_BGR2HSV)\n",
    "hist = cv2.calcHist([image],[0, 1, 2], None, [8, 8, 8], [0, 256, 0, 256, 0 , 256])\n",
    "cv2.normalize(hist, hist)\n",
    "image_histogram = hist.flatten()"
   ]
  },
  {
   "cell_type": "code",
   "execution_count": 16,
   "id": "0c490dc2-225d-4969-bc40-2450341e26e7",
   "metadata": {},
   "outputs": [
    {
     "data": {
      "text/plain": [
       "(512,)"
      ]
     },
     "execution_count": 16,
     "metadata": {},
     "output_type": "execute_result"
    }
   ],
   "source": [
    "np.shape(image_histogram)"
   ]
  },
  {
   "cell_type": "code",
   "execution_count": 17,
   "id": "4baa9e06-06ed-4128-b72c-a45a6c39b8da",
   "metadata": {},
   "outputs": [
    {
     "data": {
      "text/plain": [
       "array([[[126,   5, 241],\n",
       "        [126,   5, 248],\n",
       "        [126,   5, 242],\n",
       "        ...,\n",
       "        [177,  36,  64],\n",
       "        [177,  39,  59],\n",
       "        [177,  55,  42]],\n",
       "\n",
       "       [[126,   5, 243],\n",
       "        [126,   5, 249],\n",
       "        [126,   5, 242],\n",
       "        ...,\n",
       "        [177,  39,  59],\n",
       "        [177,  43,  53],\n",
       "        [177,  59,  39]],\n",
       "\n",
       "       [[126,   5, 240],\n",
       "        [126,   5, 242],\n",
       "        [126,   5, 236],\n",
       "        ...,\n",
       "        [177,  34,  68],\n",
       "        [177,  37,  62],\n",
       "        [177,  47,  49]],\n",
       "\n",
       "       ...,\n",
       "\n",
       "       [[ 26, 147, 130],\n",
       "        [ 26, 148, 138],\n",
       "        [ 27, 164, 132],\n",
       "        ...,\n",
       "        [ 35,  79,  42],\n",
       "        [ 26,  76,  47],\n",
       "        [ 30,  43,  53]],\n",
       "\n",
       "       [[ 26, 159, 120],\n",
       "        [ 27, 156, 129],\n",
       "        [ 27, 175, 124],\n",
       "        ...,\n",
       "        [ 35,  92,  36],\n",
       "        [ 26,  94,  38],\n",
       "        [ 27,  57,  40]],\n",
       "\n",
       "       [[ 26, 142, 133],\n",
       "        [ 27, 141, 143],\n",
       "        [ 27, 156, 139],\n",
       "        ...,\n",
       "        [ 35,  64,  52],\n",
       "        [ 26,  71,  50],\n",
       "        [ 27,  45,  51]]], dtype=uint8)"
      ]
     },
     "execution_count": 17,
     "metadata": {},
     "output_type": "execute_result"
    }
   ],
   "source": [
    "image_hsv"
   ]
  },
  {
   "cell_type": "code",
   "execution_count": 18,
   "id": "db7f1511-ceaa-42d4-84a1-6f06153e87c0",
   "metadata": {},
   "outputs": [
    {
     "data": {
      "text/plain": [
       "(500, 689, 3)"
      ]
     },
     "execution_count": 18,
     "metadata": {},
     "output_type": "execute_result"
    }
   ],
   "source": [
    "np.shape(img)"
   ]
  },
  {
   "cell_type": "code",
   "execution_count": 19,
   "id": "757a50ad-71bd-43c5-ba4e-d0e0ec214bd7",
   "metadata": {
    "scrolled": true
   },
   "outputs": [
    {
     "data": {
      "text/plain": [
       "array([[14525.],\n",
       "       [ 5169.],\n",
       "       [ 5207.],\n",
       "       [ 5029.],\n",
       "       [ 4816.],\n",
       "       [ 4359.],\n",
       "       [ 3977.],\n",
       "       [ 3657.],\n",
       "       [ 3507.],\n",
       "       [ 3213.],\n",
       "       [ 3238.],\n",
       "       [ 3275.],\n",
       "       [ 3222.],\n",
       "       [ 3284.],\n",
       "       [ 3205.],\n",
       "       [ 3445.],\n",
       "       [ 3379.],\n",
       "       [ 3596.],\n",
       "       [ 3732.],\n",
       "       [ 3995.],\n",
       "       [ 4054.],\n",
       "       [ 4000.],\n",
       "       [ 4054.],\n",
       "       [ 4146.],\n",
       "       [ 4204.],\n",
       "       [ 4102.],\n",
       "       [ 4178.],\n",
       "       [ 4163.],\n",
       "       [ 4086.],\n",
       "       [ 4253.],\n",
       "       [ 4086.],\n",
       "       [ 4008.],\n",
       "       [ 4076.],\n",
       "       [ 3943.],\n",
       "       [ 4016.],\n",
       "       [ 3887.],\n",
       "       [ 3923.],\n",
       "       [ 3895.],\n",
       "       [ 3903.],\n",
       "       [ 3943.],\n",
       "       [ 3993.],\n",
       "       [ 3909.],\n",
       "       [ 3809.],\n",
       "       [ 3610.],\n",
       "       [ 3637.],\n",
       "       [ 3629.],\n",
       "       [ 3567.],\n",
       "       [ 3638.],\n",
       "       [ 3398.],\n",
       "       [ 3490.],\n",
       "       [ 3468.],\n",
       "       [ 3319.],\n",
       "       [ 3320.],\n",
       "       [ 3337.],\n",
       "       [ 3245.],\n",
       "       [ 3249.],\n",
       "       [ 3277.],\n",
       "       [ 3303.],\n",
       "       [ 3176.],\n",
       "       [ 3218.],\n",
       "       [ 3241.],\n",
       "       [ 3053.],\n",
       "       [ 2922.],\n",
       "       [ 2831.],\n",
       "       [ 2690.],\n",
       "       [ 2712.],\n",
       "       [ 2538.],\n",
       "       [ 2552.],\n",
       "       [ 2449.],\n",
       "       [ 2374.],\n",
       "       [ 2329.],\n",
       "       [ 2171.],\n",
       "       [ 2006.],\n",
       "       [ 2018.],\n",
       "       [ 1861.],\n",
       "       [ 1834.],\n",
       "       [ 1762.],\n",
       "       [ 1705.],\n",
       "       [ 1681.],\n",
       "       [ 1668.],\n",
       "       [ 1580.],\n",
       "       [ 1564.],\n",
       "       [ 1580.],\n",
       "       [ 1525.],\n",
       "       [ 1502.],\n",
       "       [ 1401.],\n",
       "       [ 1378.],\n",
       "       [ 1399.],\n",
       "       [ 1270.],\n",
       "       [ 1352.],\n",
       "       [ 1410.],\n",
       "       [ 1369.],\n",
       "       [ 1381.],\n",
       "       [ 1318.],\n",
       "       [ 1285.],\n",
       "       [ 1232.],\n",
       "       [ 1158.],\n",
       "       [ 1097.],\n",
       "       [ 1061.],\n",
       "       [  912.],\n",
       "       [  881.],\n",
       "       [  776.],\n",
       "       [  761.],\n",
       "       [  731.],\n",
       "       [  649.],\n",
       "       [  649.],\n",
       "       [  591.],\n",
       "       [  575.],\n",
       "       [  531.],\n",
       "       [  497.],\n",
       "       [  485.],\n",
       "       [  473.],\n",
       "       [  427.],\n",
       "       [  405.],\n",
       "       [  406.],\n",
       "       [  385.],\n",
       "       [  343.],\n",
       "       [  327.],\n",
       "       [  290.],\n",
       "       [  337.],\n",
       "       [  314.],\n",
       "       [  254.],\n",
       "       [  272.],\n",
       "       [  253.],\n",
       "       [  247.],\n",
       "       [  270.],\n",
       "       [  256.],\n",
       "       [  255.],\n",
       "       [  225.],\n",
       "       [  212.],\n",
       "       [  233.],\n",
       "       [  228.],\n",
       "       [  206.],\n",
       "       [  189.],\n",
       "       [  198.],\n",
       "       [  164.],\n",
       "       [  187.],\n",
       "       [  184.],\n",
       "       [  219.],\n",
       "       [  201.],\n",
       "       [  183.],\n",
       "       [  182.],\n",
       "       [  190.],\n",
       "       [  219.],\n",
       "       [  193.],\n",
       "       [  167.],\n",
       "       [  178.],\n",
       "       [  197.],\n",
       "       [  211.],\n",
       "       [  206.],\n",
       "       [  179.],\n",
       "       [  187.],\n",
       "       [  165.],\n",
       "       [  180.],\n",
       "       [  127.],\n",
       "       [  153.],\n",
       "       [  134.],\n",
       "       [  145.],\n",
       "       [  124.],\n",
       "       [  129.],\n",
       "       [  141.],\n",
       "       [  129.],\n",
       "       [  104.],\n",
       "       [  123.],\n",
       "       [  123.],\n",
       "       [  123.],\n",
       "       [  108.],\n",
       "       [  112.],\n",
       "       [  139.],\n",
       "       [  122.],\n",
       "       [  114.],\n",
       "       [  118.],\n",
       "       [  114.],\n",
       "       [  117.],\n",
       "       [  127.],\n",
       "       [  116.],\n",
       "       [  107.],\n",
       "       [  111.],\n",
       "       [  119.],\n",
       "       [  109.],\n",
       "       [  110.],\n",
       "       [   97.],\n",
       "       [   93.],\n",
       "       [  122.],\n",
       "       [   82.],\n",
       "       [  107.],\n",
       "       [   99.],\n",
       "       [   99.],\n",
       "       [   92.],\n",
       "       [  101.],\n",
       "       [   86.],\n",
       "       [   99.],\n",
       "       [  111.],\n",
       "       [   95.],\n",
       "       [  113.],\n",
       "       [   91.],\n",
       "       [   88.],\n",
       "       [   83.],\n",
       "       [   90.],\n",
       "       [   96.],\n",
       "       [   93.],\n",
       "       [   94.],\n",
       "       [   79.],\n",
       "       [   81.],\n",
       "       [   77.],\n",
       "       [   80.],\n",
       "       [   76.],\n",
       "       [   83.],\n",
       "       [   84.],\n",
       "       [   85.],\n",
       "       [   67.],\n",
       "       [   80.],\n",
       "       [   81.],\n",
       "       [   76.],\n",
       "       [   75.],\n",
       "       [   68.],\n",
       "       [   78.],\n",
       "       [   53.],\n",
       "       [   74.],\n",
       "       [   74.],\n",
       "       [   73.],\n",
       "       [   65.],\n",
       "       [   80.],\n",
       "       [   77.],\n",
       "       [   82.],\n",
       "       [   84.],\n",
       "       [   83.],\n",
       "       [   80.],\n",
       "       [   90.],\n",
       "       [  102.],\n",
       "       [  108.],\n",
       "       [   90.],\n",
       "       [   85.],\n",
       "       [  102.],\n",
       "       [  110.],\n",
       "       [  100.],\n",
       "       [   87.],\n",
       "       [  113.],\n",
       "       [  104.],\n",
       "       [  113.],\n",
       "       [  104.],\n",
       "       [  118.],\n",
       "       [  123.],\n",
       "       [  138.],\n",
       "       [  130.],\n",
       "       [  162.],\n",
       "       [  193.],\n",
       "       [  200.],\n",
       "       [  223.],\n",
       "       [  279.],\n",
       "       [  255.],\n",
       "       [  358.],\n",
       "       [  329.],\n",
       "       [  539.],\n",
       "       [  711.],\n",
       "       [ 2874.]], dtype=float32)"
      ]
     },
     "execution_count": 19,
     "metadata": {},
     "output_type": "execute_result"
    }
   ],
   "source": [
    "hist = cv2.calcHist([img], [0], None, [256],[0,256])\n",
    "hist"
   ]
  },
  {
   "cell_type": "code",
   "execution_count": 9,
   "id": "b0a0fc39-fc96-4a0d-9531-2be5b639fc9a",
   "metadata": {},
   "outputs": [
    {
     "data": {
      "text/plain": [
       "[<matplotlib.lines.Line2D at 0x13308287f80>]"
      ]
     },
     "execution_count": 9,
     "metadata": {},
     "output_type": "execute_result"
    },
    {
     "data": {
      "image/png": "[encoded data removed]",
      "text/plain": [
       "<Figure size 640x480 with 1 Axes>"
      ]
     },
     "metadata": {},
     "output_type": "display_data"
    }
   ],
   "source": [
    "plt.plot(hist, color='blue')"
   ]
  },
  {
   "cell_type": "code",
   "execution_count": 10,
   "id": "543a9fd0-1b0a-41ae-9af5-a5993771ba95",
   "metadata": {},
   "outputs": [
    {
     "data": {
      "image/png": "[encoded data removed]",
      "text/plain": [
       "<Figure size 640x480 with 1 Axes>"
      ]
     },
     "metadata": {},
     "output_type": "display_data"
    }
   ],
   "source": [
    "for channel, col in enumerate(('b','g','r')):\n",
    "    hist = cv2.calcHist([img],[channel], None, [256],[0, 256])\n",
    "    plt.plot(hist, color=col)"
   ]
  },
  {
   "cell_type": "code",
   "execution_count": 20,
   "id": "8f80079c-a244-4d71-bc3f-2fba0de1d3cb",
   "metadata": {},
   "outputs": [
    {
     "data": {
      "text/plain": [
       "array([ 1.65085065e-03,  2.78573268e-07,  4.36548408e-10,  4.41347254e-11,\n",
       "       -2.81708234e-21,  8.07327312e-15, -5.44000241e-21])"
      ]
     },
     "execution_count": 20,
     "metadata": {},
     "output_type": "execute_result"
    }
   ],
   "source": [
    "grayImg = cv2.cvtColor(img, cv2.COLOR_BGR2GRAY)\n",
    "hue_features = cv2.HuMoments(cv2.moments(grayImg)).flatten()\n",
    "hue_features"
   ]
  },
  {
   "cell_type": "code",
   "execution_count": null,
   "id": "c9f0e461-331a-45f7-a5c4-ba76b0e853c3",
   "metadata": {},
   "outputs": [],
   "source": []
  }
 ],
 "metadata": {
  "kernelspec": {
   "display_name": "Python 3 (ipykernel)",
   "language": "python",
   "name": "python3"
  },
  "language_info": {
   "codemirror_mode": {
    "name": "ipython",
    "version": 3
   },
   "file_extension": ".py",
   "mimetype": "text/x-python",
   "name": "python",
   "nbconvert_exporter": "python",
   "pygments_lexer": "ipython3",
   "version": "3.12.7"
  }
 },
 "nbformat": 4,
 "nbformat_minor": 5
}
